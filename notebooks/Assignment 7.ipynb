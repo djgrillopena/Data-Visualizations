{
 "cells": [
  {
   "cell_type": "code",
   "execution_count": 1,
   "metadata": {},
   "outputs": [],
   "source": [
    "import pandas as pd\n",
    "import matplotlib.pyplot as plt\n",
    "import seaborn as sns\n",
    "import ipywidgets as widgets\n",
    "from ipywidgets import interact\n",
    "%matplotlib inline"
   ]
  },
  {
   "cell_type": "code",
   "execution_count": 2,
   "metadata": {},
   "outputs": [],
   "source": [
    "df = pd.read_csv(r'C:\\Users\\17097\\Documents\\Memorial University\\CS 4304\\datasets\\olympic_athletes.csv')"
   ]
  },
  {
   "cell_type": "code",
   "execution_count": 3,
   "metadata": {
    "scrolled": false
   },
   "outputs": [
    {
     "data": {
      "text/html": [
       "<div>\n",
       "<style scoped>\n",
       "    .dataframe tbody tr th:only-of-type {\n",
       "        vertical-align: middle;\n",
       "    }\n",
       "\n",
       "    .dataframe tbody tr th {\n",
       "        vertical-align: top;\n",
       "    }\n",
       "\n",
       "    .dataframe thead th {\n",
       "        text-align: right;\n",
       "    }\n",
       "</style>\n",
       "<table border=\"1\" class=\"dataframe\">\n",
       "  <thead>\n",
       "    <tr style=\"text-align: right;\">\n",
       "      <th></th>\n",
       "      <th>ID</th>\n",
       "      <th>Name</th>\n",
       "      <th>Sex</th>\n",
       "      <th>Age</th>\n",
       "      <th>Height</th>\n",
       "      <th>Weight</th>\n",
       "      <th>Team</th>\n",
       "      <th>NOC</th>\n",
       "      <th>Games</th>\n",
       "      <th>Year</th>\n",
       "      <th>Season</th>\n",
       "      <th>City</th>\n",
       "      <th>Sport</th>\n",
       "      <th>Event</th>\n",
       "      <th>Medal</th>\n",
       "    </tr>\n",
       "  </thead>\n",
       "  <tbody>\n",
       "    <tr>\n",
       "      <th>0</th>\n",
       "      <td>1</td>\n",
       "      <td>A Dijiang</td>\n",
       "      <td>M</td>\n",
       "      <td>24.0</td>\n",
       "      <td>180.0</td>\n",
       "      <td>80.0</td>\n",
       "      <td>China</td>\n",
       "      <td>CHN</td>\n",
       "      <td>1992 Summer</td>\n",
       "      <td>1992</td>\n",
       "      <td>Summer</td>\n",
       "      <td>Barcelona</td>\n",
       "      <td>Basketball</td>\n",
       "      <td>Basketball Men's Basketball</td>\n",
       "      <td>NaN</td>\n",
       "    </tr>\n",
       "    <tr>\n",
       "      <th>1</th>\n",
       "      <td>2</td>\n",
       "      <td>A Lamusi</td>\n",
       "      <td>M</td>\n",
       "      <td>23.0</td>\n",
       "      <td>170.0</td>\n",
       "      <td>60.0</td>\n",
       "      <td>China</td>\n",
       "      <td>CHN</td>\n",
       "      <td>2012 Summer</td>\n",
       "      <td>2012</td>\n",
       "      <td>Summer</td>\n",
       "      <td>London</td>\n",
       "      <td>Judo</td>\n",
       "      <td>Judo Men's Extra-Lightweight</td>\n",
       "      <td>NaN</td>\n",
       "    </tr>\n",
       "    <tr>\n",
       "      <th>2</th>\n",
       "      <td>3</td>\n",
       "      <td>Gunnar Nielsen Aaby</td>\n",
       "      <td>M</td>\n",
       "      <td>24.0</td>\n",
       "      <td>NaN</td>\n",
       "      <td>NaN</td>\n",
       "      <td>Denmark</td>\n",
       "      <td>DEN</td>\n",
       "      <td>1920 Summer</td>\n",
       "      <td>1920</td>\n",
       "      <td>Summer</td>\n",
       "      <td>Antwerpen</td>\n",
       "      <td>Football</td>\n",
       "      <td>Football Men's Football</td>\n",
       "      <td>NaN</td>\n",
       "    </tr>\n",
       "    <tr>\n",
       "      <th>3</th>\n",
       "      <td>4</td>\n",
       "      <td>Edgar Lindenau Aabye</td>\n",
       "      <td>M</td>\n",
       "      <td>34.0</td>\n",
       "      <td>NaN</td>\n",
       "      <td>NaN</td>\n",
       "      <td>Denmark/Sweden</td>\n",
       "      <td>DEN</td>\n",
       "      <td>1900 Summer</td>\n",
       "      <td>1900</td>\n",
       "      <td>Summer</td>\n",
       "      <td>Paris</td>\n",
       "      <td>Tug-Of-War</td>\n",
       "      <td>Tug-Of-War Men's Tug-Of-War</td>\n",
       "      <td>Gold</td>\n",
       "    </tr>\n",
       "    <tr>\n",
       "      <th>4</th>\n",
       "      <td>5</td>\n",
       "      <td>Christine Jacoba Aaftink</td>\n",
       "      <td>F</td>\n",
       "      <td>21.0</td>\n",
       "      <td>185.0</td>\n",
       "      <td>82.0</td>\n",
       "      <td>Netherlands</td>\n",
       "      <td>NED</td>\n",
       "      <td>1988 Winter</td>\n",
       "      <td>1988</td>\n",
       "      <td>Winter</td>\n",
       "      <td>Calgary</td>\n",
       "      <td>Speed Skating</td>\n",
       "      <td>Speed Skating Women's 500 metres</td>\n",
       "      <td>NaN</td>\n",
       "    </tr>\n",
       "  </tbody>\n",
       "</table>\n",
       "</div>"
      ],
      "text/plain": [
       "   ID                      Name Sex   Age  Height  Weight            Team  \\\n",
       "0   1                 A Dijiang   M  24.0   180.0    80.0           China   \n",
       "1   2                  A Lamusi   M  23.0   170.0    60.0           China   \n",
       "2   3       Gunnar Nielsen Aaby   M  24.0     NaN     NaN         Denmark   \n",
       "3   4      Edgar Lindenau Aabye   M  34.0     NaN     NaN  Denmark/Sweden   \n",
       "4   5  Christine Jacoba Aaftink   F  21.0   185.0    82.0     Netherlands   \n",
       "\n",
       "   NOC        Games  Year  Season       City          Sport  \\\n",
       "0  CHN  1992 Summer  1992  Summer  Barcelona     Basketball   \n",
       "1  CHN  2012 Summer  2012  Summer     London           Judo   \n",
       "2  DEN  1920 Summer  1920  Summer  Antwerpen       Football   \n",
       "3  DEN  1900 Summer  1900  Summer      Paris     Tug-Of-War   \n",
       "4  NED  1988 Winter  1988  Winter    Calgary  Speed Skating   \n",
       "\n",
       "                              Event Medal  \n",
       "0       Basketball Men's Basketball   NaN  \n",
       "1      Judo Men's Extra-Lightweight   NaN  \n",
       "2           Football Men's Football   NaN  \n",
       "3       Tug-Of-War Men's Tug-Of-War  Gold  \n",
       "4  Speed Skating Women's 500 metres   NaN  "
      ]
     },
     "execution_count": 3,
     "metadata": {},
     "output_type": "execute_result"
    }
   ],
   "source": [
    "df.head()"
   ]
  },
  {
   "cell_type": "code",
   "execution_count": 4,
   "metadata": {},
   "outputs": [],
   "source": [
    "df_q1 = df[(df.Year == 2016) & (df.Medal == \"Gold\")][['ID', 'Sport', 'Height']].drop_duplicates(subset = ['ID']) #.groupby('Event')"
   ]
  },
  {
   "cell_type": "code",
   "execution_count": 5,
   "metadata": {},
   "outputs": [
    {
     "data": {
      "text/plain": [
       "(618, 3)"
      ]
     },
     "execution_count": 5,
     "metadata": {},
     "output_type": "execute_result"
    }
   ],
   "source": [
    "df_q1.shape"
   ]
  },
  {
   "cell_type": "code",
   "execution_count": 6,
   "metadata": {},
   "outputs": [],
   "source": [
    "sports = ['Swimming', 'Wrestling', 'Fencing', 'Athletics', 'Shooting', 'Cycling', 'Rowing', 'Gymnastics']\n",
    "\n",
    "df_q1 = df_q1[df_q1.Sport.isin(sports)]"
   ]
  },
  {
   "cell_type": "code",
   "execution_count": 7,
   "metadata": {},
   "outputs": [
    {
     "data": {
      "text/plain": [
       "(255, 3)"
      ]
     },
     "execution_count": 7,
     "metadata": {},
     "output_type": "execute_result"
    }
   ],
   "source": [
    "df_q1.shape"
   ]
  },
  {
   "cell_type": "markdown",
   "metadata": {},
   "source": [
    "## Question 1"
   ]
  },
  {
   "cell_type": "code",
   "execution_count": 8,
   "metadata": {},
   "outputs": [
    {
     "data": {
      "text/plain": [
       "Text(0.5, 1.0, 'Gold-medal Winning Heights at the 2016 Olympics')"
      ]
     },
     "execution_count": 8,
     "metadata": {},
     "output_type": "execute_result"
    },
    {
     "data": {
      "image/png": "[encoded data removed]",
      "text/plain": [
       "<Figure size 648x432 with 1 Axes>"
      ]
     },
     "metadata": {
      "needs_background": "light"
     },
     "output_type": "display_data"
    }
   ],
   "source": [
    "fig, ax = plt.subplots(figsize = (9,6))\n",
    "\n",
    "sns.violinplot(x='Sport', y='Height', data=df_q1, scale = 'width', inner = 'quartiles', ax=ax)\n",
    "sns.swarmplot(x='Sport', y='Height', data=df_q1, color='black', ax=ax, size=6)\n",
    "\n",
    "plt.title(\"Gold-medal Winning Heights at the 2016 Olympics\")"
   ]
  },
  {
   "cell_type": "code",
   "execution_count": 9,
   "metadata": {},
   "outputs": [],
   "source": [
    "data_bins_w = []\n",
    "bin_labels_w = []\n",
    "\n",
    "for i in range(20,145,5):\n",
    "    \n",
    "    data_bins_w.append(i)\n",
    "    \n",
    "for i in range(25,145,5):\n",
    "    bin_labels_w.append(str(i))"
   ]
  },
  {
   "cell_type": "code",
   "execution_count": 10,
   "metadata": {},
   "outputs": [],
   "source": [
    "data_bins_h = []\n",
    "bin_labels_h = []\n",
    "\n",
    "for i in range(130,225,5):\n",
    "    \n",
    "    data_bins_h.append(i)\n",
    "    \n",
    "for i in range(135,225,5):\n",
    "    bin_labels_h.append(str(i))"
   ]
  },
  {
   "cell_type": "code",
   "execution_count": 11,
   "metadata": {},
   "outputs": [
    {
     "data": {
      "text/html": [
       "<div>\n",
       "<style scoped>\n",
       "    .dataframe tbody tr th:only-of-type {\n",
       "        vertical-align: middle;\n",
       "    }\n",
       "\n",
       "    .dataframe tbody tr th {\n",
       "        vertical-align: top;\n",
       "    }\n",
       "\n",
       "    .dataframe thead th {\n",
       "        text-align: right;\n",
       "    }\n",
       "</style>\n",
       "<table border=\"1\" class=\"dataframe\">\n",
       "  <thead>\n",
       "    <tr style=\"text-align: right;\">\n",
       "      <th></th>\n",
       "      <th>Sex</th>\n",
       "      <th>Sport</th>\n",
       "      <th>Height</th>\n",
       "      <th>Weight</th>\n",
       "    </tr>\n",
       "  </thead>\n",
       "  <tbody>\n",
       "    <tr>\n",
       "      <th>0</th>\n",
       "      <td>M</td>\n",
       "      <td>Rowing</td>\n",
       "      <td>188.0</td>\n",
       "      <td>96.0</td>\n",
       "    </tr>\n",
       "    <tr>\n",
       "      <th>1</th>\n",
       "      <td>M</td>\n",
       "      <td>Wrestling</td>\n",
       "      <td>167.0</td>\n",
       "      <td>55.0</td>\n",
       "    </tr>\n",
       "    <tr>\n",
       "      <th>2</th>\n",
       "      <td>M</td>\n",
       "      <td>Athletics</td>\n",
       "      <td>166.0</td>\n",
       "      <td>58.0</td>\n",
       "    </tr>\n",
       "    <tr>\n",
       "      <th>3</th>\n",
       "      <td>M</td>\n",
       "      <td>Cycling</td>\n",
       "      <td>180.0</td>\n",
       "      <td>68.0</td>\n",
       "    </tr>\n",
       "    <tr>\n",
       "      <th>4</th>\n",
       "      <td>M</td>\n",
       "      <td>Cycling</td>\n",
       "      <td>180.0</td>\n",
       "      <td>68.0</td>\n",
       "    </tr>\n",
       "  </tbody>\n",
       "</table>\n",
       "</div>"
      ],
      "text/plain": [
       "  Sex      Sport  Height  Weight\n",
       "0   M     Rowing   188.0    96.0\n",
       "1   M  Wrestling   167.0    55.0\n",
       "2   M  Athletics   166.0    58.0\n",
       "3   M    Cycling   180.0    68.0\n",
       "4   M    Cycling   180.0    68.0"
      ]
     },
     "execution_count": 11,
     "metadata": {},
     "output_type": "execute_result"
    }
   ],
   "source": [
    "df_q2 = df[((df.Year >= 2000) & (df.Year <= 2016)) & (df.Medal == \"Gold\")][['Sex', 'Sport', 'Height', 'Weight']].dropna()#.reset_index()\n",
    "df_q2 = df_q2[df_q2.Sport.isin(sports)].reset_index()\n",
    "del df_q2['index']\n",
    "df_q2.head()"
   ]
  },
  {
   "cell_type": "code",
   "execution_count": 12,
   "metadata": {},
   "outputs": [],
   "source": [
    "df_q2['Binned_H'] = pd.cut(df_q2.Height, bins = data_bins_h, labels = bin_labels_h)\n",
    "df_q2['Binned_W'] = pd.cut(df_q2.Weight, bins = data_bins_w, labels = bin_labels_w)\n",
    "#df_q2"
   ]
  },
  {
   "cell_type": "code",
   "execution_count": 13,
   "metadata": {},
   "outputs": [],
   "source": [
    "df_q2_swim = df_q2[df_q2.Sport == 'Swimming']\n",
    "df_q2_wres = df_q2[df_q2.Sport == 'Wrestling']\n",
    "df_q2_fen = df_q2[df_q2.Sport == 'Fencing']\n",
    "df_q2_athl = df_q2[df_q2.Sport == 'Athletics']\n",
    "df_q2_shoot = df_q2[df_q2.Sport == 'Shooting']\n",
    "df_q2_cycl = df_q2[df_q2.Sport == 'Cycling']\n",
    "df_q2_row = df_q2[df_q2.Sport == 'Rowing']\n",
    "df_q2_gymn = df_q2[df_q2.Sport == 'Gymnastics']"
   ]
  },
  {
   "cell_type": "code",
   "execution_count": 14,
   "metadata": {},
   "outputs": [],
   "source": [
    "df_q2_comb = df_q2.groupby(['Binned_H', 'Binned_W']).size()\n",
    "df_comb = df_q2_comb.to_frame(name = 'count').reset_index()\n",
    "df_comb = df_comb.pivot(index = 'Binned_H', columns = 'Binned_W', values = 'count')"
   ]
  },
  {
   "cell_type": "code",
   "execution_count": 15,
   "metadata": {},
   "outputs": [],
   "source": [
    "df_q2_swim = df_q2_swim.groupby(['Binned_H', 'Binned_W']).size()\n",
    "df_swim = df_q2_swim.to_frame(name = 'count').reset_index()\n",
    "df_swim = df_swim.pivot(index = 'Binned_H', columns = 'Binned_W', values = 'count')"
   ]
  },
  {
   "cell_type": "code",
   "execution_count": 16,
   "metadata": {},
   "outputs": [],
   "source": [
    "df_q2_wres = df_q2_wres.groupby(['Binned_H', 'Binned_W']).size()\n",
    "df_wres = df_q2_wres.to_frame(name = 'count').reset_index()\n",
    "df_wres = df_wres.pivot(index = 'Binned_H', columns = 'Binned_W', values = 'count')"
   ]
  },
  {
   "cell_type": "code",
   "execution_count": 17,
   "metadata": {},
   "outputs": [],
   "source": [
    "df_q2_fen = df_q2_fen.groupby(['Binned_H', 'Binned_W']).size()\n",
    "df_fen = df_q2_fen.to_frame(name = 'count').reset_index()\n",
    "df_fen = df_fen.pivot(index = 'Binned_H', columns = 'Binned_W', values = 'count')"
   ]
  },
  {
   "cell_type": "code",
   "execution_count": 18,
   "metadata": {},
   "outputs": [],
   "source": [
    "df_q2_athl = df_q2_athl.groupby(['Binned_H', 'Binned_W']).size()\n",
    "df_athl = df_q2_athl.to_frame(name = 'count').reset_index()\n",
    "df_athl = df_athl.pivot(index = 'Binned_H', columns = 'Binned_W', values = 'count')"
   ]
  },
  {
   "cell_type": "code",
   "execution_count": 19,
   "metadata": {},
   "outputs": [],
   "source": [
    "df_q2_shoot = df_q2_shoot.groupby(['Binned_H', 'Binned_W']).size()\n",
    "df_shoot = df_q2_shoot.to_frame(name = 'count').reset_index()\n",
    "df_shoot = df_shoot.pivot(index = 'Binned_H', columns = 'Binned_W', values = 'count')"
   ]
  },
  {
   "cell_type": "code",
   "execution_count": 20,
   "metadata": {},
   "outputs": [],
   "source": [
    "df_q2_cycl = df_q2_cycl.groupby(['Binned_H', 'Binned_W']).size()\n",
    "df_cycl = df_q2_cycl.to_frame(name = 'count').reset_index()\n",
    "df_cycl = df_cycl.pivot(index = 'Binned_H', columns = 'Binned_W', values = 'count')"
   ]
  },
  {
   "cell_type": "code",
   "execution_count": 21,
   "metadata": {},
   "outputs": [],
   "source": [
    "df_q2_row = df_q2_row.groupby(['Binned_H', 'Binned_W']).size()\n",
    "df_row = df_q2_row.to_frame(name = 'count').reset_index()\n",
    "df_row = df_row.pivot(index = 'Binned_H', columns = 'Binned_W', values = 'count')"
   ]
  },
  {
   "cell_type": "code",
   "execution_count": 22,
   "metadata": {},
   "outputs": [],
   "source": [
    "df_q2_gymn = df_q2_gymn.groupby(['Binned_H', 'Binned_W']).size()\n",
    "df_gymn = df_q2_gymn.to_frame(name = 'count').reset_index()\n",
    "df_gymn = df_gymn.pivot(index = 'Binned_H', columns = 'Binned_W', values = 'count')"
   ]
  },
  {
   "cell_type": "code",
   "execution_count": 23,
   "metadata": {},
   "outputs": [],
   "source": [
    "sport_dict = {'Swimming': df_swim, \n",
    "              'Wrestling': df_wres, \n",
    "              'Fencing': df_fen, \n",
    "              'Athletics': df_athl,\n",
    "              'Shooting': df_shoot,\n",
    "              'Cycling': df_cycl,\n",
    "              'Rowing': df_row,\n",
    "              'Gymnastics': df_gymn,\n",
    "              'Combined': df_comb}"
   ]
  },
  {
   "cell_type": "code",
   "execution_count": 24,
   "metadata": {},
   "outputs": [],
   "source": [
    "sports_q2 = ['Swimming', 'Wrestling', 'Fencing', 'Athletics', 'Shooting', 'Cycling', 'Rowing', 'Gymnastics', 'Combined']"
   ]
  },
  {
   "cell_type": "markdown",
   "metadata": {},
   "source": [
    "## Question 2"
   ]
  },
  {
   "cell_type": "code",
   "execution_count": 25,
   "metadata": {},
   "outputs": [
    {
     "data": {
      "application/vnd.jupyter.widget-view+json": {
       "model_id": "4c1352474a5441af95e35f8a0e66df09",
       "version_major": 2,
       "version_minor": 0
      },
      "text/plain": [
       "interactive(children=(Dropdown(description='Sport', options=('Swimming', 'Wrestling', 'Fencing', 'Athletics', …"
      ]
     },
     "metadata": {},
     "output_type": "display_data"
    },
    {
     "data": {
      "text/plain": [
       "<function __main__.interactive_plot(sport, kde, display_data)>"
      ]
     },
     "execution_count": 25,
     "metadata": {},
     "output_type": "execute_result"
    }
   ],
   "source": [
    "def interactive_plot(sport, kde, display_data):\n",
    "    \n",
    "    if((kde == False) & (display_data == False)):\n",
    "        \n",
    "        df_hm = sport_dict[sport]\n",
    "        ax = sns.heatmap(data = df_hm, cmap = 'Blues', cbar = False)\n",
    "        ax.set_ylabel(\"Height\")\n",
    "        ax.set_xlabel(\"Weight\")\n",
    "        ax.invert_yaxis()\n",
    "        \n",
    "    elif((kde == True) & (display_data == False)):\n",
    "        \n",
    "        if (sport != 'Combined'):\n",
    "            df_kde = df_q2[df_q2.Sport == sport]\n",
    "            \n",
    "        else:\n",
    "            df_kde = df_q2\n",
    "\n",
    "        \n",
    "        ax = sns.kdeplot(x = 'Weight', y = 'Height', data = df_kde, level = 5, fill = True, palette = 'Blues')\n",
    "        ax.set_xlim(20,140)\n",
    "        ax.set_ylim(130,220)\n",
    "        \n",
    "    elif((kde == True) & (display_data == True)):\n",
    "        \n",
    "        if (sport != 'Combined'):\n",
    "            df_kde = df_q2[df_q2.Sport == sport]\n",
    "            \n",
    "        else:\n",
    "            df_kde = df_q2\n",
    "    \n",
    "        #df_kde = df_q2[df_q2.Sport == sport]\n",
    "        ax = sns.kdeplot(x = 'Weight', y = 'Height', data = df_kde, level = 5, fill = True, palette = 'Blues')\n",
    "        ax = sns.scatterplot(x = 'Weight', y = 'Height', data = df_kde, hue = 'Sex')\n",
    "        plt.legend(loc='upper right', title = 'Sex')\n",
    "        ax.set_xlim(20,140)\n",
    "        ax.set_ylim(130,220)\n",
    "        \n",
    "    else:\n",
    "        \n",
    "        if (sport != 'Combined'):\n",
    "            df_scat = df_q2[df_q2.Sport == sport]\n",
    "            \n",
    "        else:\n",
    "            df_scat = df_q2\n",
    "        \n",
    "        #df_scat = df_q2[df_q2.Sport == sport]\n",
    "        ax = sns.scatterplot(x = 'Weight', y = 'Height', data = df_scat, hue = 'Sex')\n",
    "        plt.legend(loc='upper right', title = 'Sex')\n",
    "        ax.set_xlim(20,140)\n",
    "        ax.set_ylim(130,220)\n",
    "    \n",
    "interact(interactive_plot, \n",
    "         sport = widgets.Dropdown(options= sports_q2, description='Sport'),\n",
    "         kde = widgets.Checkbox(value = False, description = 'kde'),\n",
    "         display_data = widgets.Checkbox(value = False, description = 'display_data')\n",
    "         )"
   ]
  },
  {
   "cell_type": "code",
   "execution_count": null,
   "metadata": {},
   "outputs": [],
   "source": []
  }
 ],
 "metadata": {
  "kernelspec": {
   "display_name": "Python 3",
   "language": "python",
   "name": "python3"
  },
  "language_info": {
   "codemirror_mode": {
    "name": "ipython",
    "version": 3
   },
   "file_extension": ".py",
   "mimetype": "text/x-python",
   "name": "python",
   "nbconvert_exporter": "python",
   "pygments_lexer": "ipython3",
   "version": "3.8.5"
  }
 },
 "nbformat": 4,
 "nbformat_minor": 4
}
