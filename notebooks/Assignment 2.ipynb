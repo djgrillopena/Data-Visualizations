{
 "cells": [
  {
   "cell_type": "code",
   "execution_count": 1,
   "metadata": {},
   "outputs": [],
   "source": [
    "import pandas as pd\n",
    "import matplotlib.pyplot as plt"
   ]
  },
  {
   "cell_type": "code",
   "execution_count": 2,
   "metadata": {},
   "outputs": [],
   "source": [
    "df_students = pd.read_csv(r'C:\\Users\\17097\\Documents\\Memorial University\\CS 4304\\datasets\\students1.csv')\n",
    "df_iris = pd.read_csv(r'C:\\Users\\17097\\Documents\\Memorial University\\CS 4304\\datasets\\iris.csv')"
   ]
  },
  {
   "cell_type": "code",
   "execution_count": 3,
   "metadata": {},
   "outputs": [
    {
     "data": {
      "text/html": [
       "<div>\n",
       "<style scoped>\n",
       "    .dataframe tbody tr th:only-of-type {\n",
       "        vertical-align: middle;\n",
       "    }\n",
       "\n",
       "    .dataframe tbody tr th {\n",
       "        vertical-align: top;\n",
       "    }\n",
       "\n",
       "    .dataframe thead th {\n",
       "        text-align: right;\n",
       "    }\n",
       "</style>\n",
       "<table border=\"1\" class=\"dataframe\">\n",
       "  <thead>\n",
       "    <tr style=\"text-align: right;\">\n",
       "      <th></th>\n",
       "      <th>REF_DATE</th>\n",
       "      <th>GEO</th>\n",
       "      <th>Institution type</th>\n",
       "      <th>Registration status</th>\n",
       "      <th>International Standard Classification of Education (ISCED)</th>\n",
       "      <th>Field of study</th>\n",
       "      <th>Gender</th>\n",
       "      <th>Status of student in Canada</th>\n",
       "      <th>VALUE</th>\n",
       "    </tr>\n",
       "  </thead>\n",
       "  <tbody>\n",
       "    <tr>\n",
       "      <th>0</th>\n",
       "      <td>2018/2019</td>\n",
       "      <td>Newfoundland and Labrador</td>\n",
       "      <td>University</td>\n",
       "      <td>Full-time student</td>\n",
       "      <td>Bachelor's or equivalent</td>\n",
       "      <td>Education [1]</td>\n",
       "      <td>Male gender</td>\n",
       "      <td>Canadian students</td>\n",
       "      <td>129</td>\n",
       "    </tr>\n",
       "    <tr>\n",
       "      <th>1</th>\n",
       "      <td>2018/2019</td>\n",
       "      <td>Newfoundland and Labrador</td>\n",
       "      <td>University</td>\n",
       "      <td>Full-time student</td>\n",
       "      <td>Bachelor's or equivalent</td>\n",
       "      <td>Education [1]</td>\n",
       "      <td>Male gender</td>\n",
       "      <td>International students</td>\n",
       "      <td>3</td>\n",
       "    </tr>\n",
       "    <tr>\n",
       "      <th>2</th>\n",
       "      <td>2018/2019</td>\n",
       "      <td>Newfoundland and Labrador</td>\n",
       "      <td>University</td>\n",
       "      <td>Full-time student</td>\n",
       "      <td>Bachelor's or equivalent</td>\n",
       "      <td>Education [1]</td>\n",
       "      <td>Female gender</td>\n",
       "      <td>Canadian students</td>\n",
       "      <td>243</td>\n",
       "    </tr>\n",
       "    <tr>\n",
       "      <th>3</th>\n",
       "      <td>2018/2019</td>\n",
       "      <td>Newfoundland and Labrador</td>\n",
       "      <td>University</td>\n",
       "      <td>Full-time student</td>\n",
       "      <td>Bachelor's or equivalent</td>\n",
       "      <td>Education [1]</td>\n",
       "      <td>Female gender</td>\n",
       "      <td>International students</td>\n",
       "      <td>3</td>\n",
       "    </tr>\n",
       "    <tr>\n",
       "      <th>4</th>\n",
       "      <td>2018/2019</td>\n",
       "      <td>Newfoundland and Labrador</td>\n",
       "      <td>University</td>\n",
       "      <td>Full-time student</td>\n",
       "      <td>Bachelor's or equivalent</td>\n",
       "      <td>Education [1]</td>\n",
       "      <td>Gender unknown</td>\n",
       "      <td>Canadian students</td>\n",
       "      <td>3</td>\n",
       "    </tr>\n",
       "  </tbody>\n",
       "</table>\n",
       "</div>"
      ],
      "text/plain": [
       "    REF_DATE                        GEO Institution type Registration status  \\\n",
       "0  2018/2019  Newfoundland and Labrador       University   Full-time student   \n",
       "1  2018/2019  Newfoundland and Labrador       University   Full-time student   \n",
       "2  2018/2019  Newfoundland and Labrador       University   Full-time student   \n",
       "3  2018/2019  Newfoundland and Labrador       University   Full-time student   \n",
       "4  2018/2019  Newfoundland and Labrador       University   Full-time student   \n",
       "\n",
       "  International Standard Classification of Education (ISCED) Field of study  \\\n",
       "0                           Bachelor's or equivalent          Education [1]   \n",
       "1                           Bachelor's or equivalent          Education [1]   \n",
       "2                           Bachelor's or equivalent          Education [1]   \n",
       "3                           Bachelor's or equivalent          Education [1]   \n",
       "4                           Bachelor's or equivalent          Education [1]   \n",
       "\n",
       "           Gender Status of student in Canada  VALUE  \n",
       "0     Male gender           Canadian students    129  \n",
       "1     Male gender      International students      3  \n",
       "2   Female gender           Canadian students    243  \n",
       "3   Female gender      International students      3  \n",
       "4  Gender unknown           Canadian students      3  "
      ]
     },
     "execution_count": 3,
     "metadata": {},
     "output_type": "execute_result"
    }
   ],
   "source": [
    "df_students.head()"
   ]
  },
  {
   "cell_type": "code",
   "execution_count": 4,
   "metadata": {},
   "outputs": [
    {
     "data": {
      "text/plain": [
       "Index(['REF_DATE', 'GEO', 'Institution type', 'Registration status',\n",
       "       'International Standard Classification of Education (ISCED)',\n",
       "       'Field of study', 'Gender', 'Status of student in Canada', 'VALUE'],\n",
       "      dtype='object')"
      ]
     },
     "execution_count": 4,
     "metadata": {},
     "output_type": "execute_result"
    }
   ],
   "source": [
    "df_students.columns"
   ]
  },
  {
   "cell_type": "code",
   "execution_count": 5,
   "metadata": {},
   "outputs": [
    {
     "data": {
      "text/html": [
       "<div>\n",
       "<style scoped>\n",
       "    .dataframe tbody tr th:only-of-type {\n",
       "        vertical-align: middle;\n",
       "    }\n",
       "\n",
       "    .dataframe tbody tr th {\n",
       "        vertical-align: top;\n",
       "    }\n",
       "\n",
       "    .dataframe thead th {\n",
       "        text-align: right;\n",
       "    }\n",
       "</style>\n",
       "<table border=\"1\" class=\"dataframe\">\n",
       "  <thead>\n",
       "    <tr style=\"text-align: right;\">\n",
       "      <th></th>\n",
       "      <th>sepal_length</th>\n",
       "      <th>sepal_width</th>\n",
       "      <th>petal_length</th>\n",
       "      <th>petal_width</th>\n",
       "      <th>species</th>\n",
       "    </tr>\n",
       "  </thead>\n",
       "  <tbody>\n",
       "    <tr>\n",
       "      <th>0</th>\n",
       "      <td>5.1</td>\n",
       "      <td>3.5</td>\n",
       "      <td>1.4</td>\n",
       "      <td>0.2</td>\n",
       "      <td>setosa</td>\n",
       "    </tr>\n",
       "    <tr>\n",
       "      <th>1</th>\n",
       "      <td>4.9</td>\n",
       "      <td>3.0</td>\n",
       "      <td>1.4</td>\n",
       "      <td>0.2</td>\n",
       "      <td>setosa</td>\n",
       "    </tr>\n",
       "    <tr>\n",
       "      <th>2</th>\n",
       "      <td>4.7</td>\n",
       "      <td>3.2</td>\n",
       "      <td>1.3</td>\n",
       "      <td>0.2</td>\n",
       "      <td>setosa</td>\n",
       "    </tr>\n",
       "    <tr>\n",
       "      <th>3</th>\n",
       "      <td>4.6</td>\n",
       "      <td>3.1</td>\n",
       "      <td>1.5</td>\n",
       "      <td>0.2</td>\n",
       "      <td>setosa</td>\n",
       "    </tr>\n",
       "    <tr>\n",
       "      <th>4</th>\n",
       "      <td>5.0</td>\n",
       "      <td>3.6</td>\n",
       "      <td>1.4</td>\n",
       "      <td>0.2</td>\n",
       "      <td>setosa</td>\n",
       "    </tr>\n",
       "  </tbody>\n",
       "</table>\n",
       "</div>"
      ],
      "text/plain": [
       "   sepal_length  sepal_width  petal_length  petal_width species\n",
       "0           5.1          3.5           1.4          0.2  setosa\n",
       "1           4.9          3.0           1.4          0.2  setosa\n",
       "2           4.7          3.2           1.3          0.2  setosa\n",
       "3           4.6          3.1           1.5          0.2  setosa\n",
       "4           5.0          3.6           1.4          0.2  setosa"
      ]
     },
     "execution_count": 5,
     "metadata": {},
     "output_type": "execute_result"
    }
   ],
   "source": [
    "df_iris.head()"
   ]
  },
  {
   "cell_type": "markdown",
   "metadata": {},
   "source": [
    "### Question 1"
   ]
  },
  {
   "cell_type": "code",
   "execution_count": 6,
   "metadata": {},
   "outputs": [],
   "source": [
    "df1 = df_students.groupby(['Field of study', 'GEO']).sum().reset_index()"
   ]
  },
  {
   "cell_type": "code",
   "execution_count": 7,
   "metadata": {},
   "outputs": [
    {
     "data": {
      "text/html": [
       "<div>\n",
       "<style scoped>\n",
       "    .dataframe tbody tr th:only-of-type {\n",
       "        vertical-align: middle;\n",
       "    }\n",
       "\n",
       "    .dataframe tbody tr th {\n",
       "        vertical-align: top;\n",
       "    }\n",
       "\n",
       "    .dataframe thead th {\n",
       "        text-align: right;\n",
       "    }\n",
       "</style>\n",
       "<table border=\"1\" class=\"dataframe\">\n",
       "  <thead>\n",
       "    <tr style=\"text-align: right;\">\n",
       "      <th></th>\n",
       "      <th>Field of study</th>\n",
       "      <th>GEO</th>\n",
       "      <th>VALUE</th>\n",
       "    </tr>\n",
       "  </thead>\n",
       "  <tbody>\n",
       "    <tr>\n",
       "      <th>0</th>\n",
       "      <td>Agriculture, natural resources and conservatio...</td>\n",
       "      <td>Alberta</td>\n",
       "      <td>4059</td>\n",
       "    </tr>\n",
       "    <tr>\n",
       "      <th>1</th>\n",
       "      <td>Agriculture, natural resources and conservatio...</td>\n",
       "      <td>British Columbia</td>\n",
       "      <td>5313</td>\n",
       "    </tr>\n",
       "    <tr>\n",
       "      <th>2</th>\n",
       "      <td>Agriculture, natural resources and conservatio...</td>\n",
       "      <td>Manitoba</td>\n",
       "      <td>1497</td>\n",
       "    </tr>\n",
       "    <tr>\n",
       "      <th>3</th>\n",
       "      <td>Agriculture, natural resources and conservatio...</td>\n",
       "      <td>New Brunswick</td>\n",
       "      <td>645</td>\n",
       "    </tr>\n",
       "    <tr>\n",
       "      <th>4</th>\n",
       "      <td>Agriculture, natural resources and conservatio...</td>\n",
       "      <td>Newfoundland and Labrador</td>\n",
       "      <td>393</td>\n",
       "    </tr>\n",
       "    <tr>\n",
       "      <th>...</th>\n",
       "      <td>...</td>\n",
       "      <td>...</td>\n",
       "      <td>...</td>\n",
       "    </tr>\n",
       "    <tr>\n",
       "      <th>146</th>\n",
       "      <td>Visual and performing arts and communications ...</td>\n",
       "      <td>Ontario</td>\n",
       "      <td>38367</td>\n",
       "    </tr>\n",
       "    <tr>\n",
       "      <th>147</th>\n",
       "      <td>Visual and performing arts and communications ...</td>\n",
       "      <td>Prince Edward Island</td>\n",
       "      <td>207</td>\n",
       "    </tr>\n",
       "    <tr>\n",
       "      <th>148</th>\n",
       "      <td>Visual and performing arts and communications ...</td>\n",
       "      <td>Quebec</td>\n",
       "      <td>21006</td>\n",
       "    </tr>\n",
       "    <tr>\n",
       "      <th>149</th>\n",
       "      <td>Visual and performing arts and communications ...</td>\n",
       "      <td>Saskatchewan</td>\n",
       "      <td>564</td>\n",
       "    </tr>\n",
       "    <tr>\n",
       "      <th>150</th>\n",
       "      <td>Visual and performing arts and communications ...</td>\n",
       "      <td>Territories</td>\n",
       "      <td>12</td>\n",
       "    </tr>\n",
       "  </tbody>\n",
       "</table>\n",
       "<p>151 rows × 3 columns</p>\n",
       "</div>"
      ],
      "text/plain": [
       "                                        Field of study  \\\n",
       "0    Agriculture, natural resources and conservatio...   \n",
       "1    Agriculture, natural resources and conservatio...   \n",
       "2    Agriculture, natural resources and conservatio...   \n",
       "3    Agriculture, natural resources and conservatio...   \n",
       "4    Agriculture, natural resources and conservatio...   \n",
       "..                                                 ...   \n",
       "146  Visual and performing arts and communications ...   \n",
       "147  Visual and performing arts and communications ...   \n",
       "148  Visual and performing arts and communications ...   \n",
       "149  Visual and performing arts and communications ...   \n",
       "150  Visual and performing arts and communications ...   \n",
       "\n",
       "                           GEO  VALUE  \n",
       "0                      Alberta   4059  \n",
       "1             British Columbia   5313  \n",
       "2                     Manitoba   1497  \n",
       "3                New Brunswick    645  \n",
       "4    Newfoundland and Labrador    393  \n",
       "..                         ...    ...  \n",
       "146                    Ontario  38367  \n",
       "147       Prince Edward Island    207  \n",
       "148                     Quebec  21006  \n",
       "149               Saskatchewan    564  \n",
       "150                Territories     12  \n",
       "\n",
       "[151 rows x 3 columns]"
      ]
     },
     "execution_count": 7,
     "metadata": {},
     "output_type": "execute_result"
    }
   ],
   "source": [
    "df1"
   ]
  },
  {
   "cell_type": "code",
   "execution_count": 8,
   "metadata": {},
   "outputs": [
    {
     "data": {
      "text/html": [
       "<div>\n",
       "<style scoped>\n",
       "    .dataframe tbody tr th:only-of-type {\n",
       "        vertical-align: middle;\n",
       "    }\n",
       "\n",
       "    .dataframe tbody tr th {\n",
       "        vertical-align: top;\n",
       "    }\n",
       "\n",
       "    .dataframe thead th {\n",
       "        text-align: right;\n",
       "    }\n",
       "</style>\n",
       "<table border=\"1\" class=\"dataframe\">\n",
       "  <thead>\n",
       "    <tr style=\"text-align: right;\">\n",
       "      <th></th>\n",
       "      <th>Field of study</th>\n",
       "      <th>GEO</th>\n",
       "      <th>VALUE</th>\n",
       "    </tr>\n",
       "  </thead>\n",
       "  <tbody>\n",
       "    <tr>\n",
       "      <th>28</th>\n",
       "      <td>Business, management and public administration...</td>\n",
       "      <td>Ontario</td>\n",
       "      <td>171693</td>\n",
       "    </tr>\n",
       "    <tr>\n",
       "      <th>125</th>\n",
       "      <td>Social and behavioural sciences and law [4]</td>\n",
       "      <td>Ontario</td>\n",
       "      <td>136701</td>\n",
       "    </tr>\n",
       "    <tr>\n",
       "      <th>17</th>\n",
       "      <td>Architecture, engineering and related technolo...</td>\n",
       "      <td>Ontario</td>\n",
       "      <td>114720</td>\n",
       "    </tr>\n",
       "    <tr>\n",
       "      <th>50</th>\n",
       "      <td>Health and related fields [10]</td>\n",
       "      <td>Ontario</td>\n",
       "      <td>113781</td>\n",
       "    </tr>\n",
       "    <tr>\n",
       "      <th>63</th>\n",
       "      <td>Humanities [3]</td>\n",
       "      <td>Quebec</td>\n",
       "      <td>80022</td>\n",
       "    </tr>\n",
       "    <tr>\n",
       "      <th>114</th>\n",
       "      <td>Physical and life sciences and technologies [6]</td>\n",
       "      <td>Ontario</td>\n",
       "      <td>70554</td>\n",
       "    </tr>\n",
       "    <tr>\n",
       "      <th>135</th>\n",
       "      <td>Unclassified</td>\n",
       "      <td>Ontario</td>\n",
       "      <td>59196</td>\n",
       "    </tr>\n",
       "    <tr>\n",
       "      <th>72</th>\n",
       "      <td>Mathematics, computer and information sciences...</td>\n",
       "      <td>Ontario</td>\n",
       "      <td>48171</td>\n",
       "    </tr>\n",
       "    <tr>\n",
       "      <th>146</th>\n",
       "      <td>Visual and performing arts and communications ...</td>\n",
       "      <td>Ontario</td>\n",
       "      <td>38367</td>\n",
       "    </tr>\n",
       "    <tr>\n",
       "      <th>41</th>\n",
       "      <td>Education [1]</td>\n",
       "      <td>Quebec</td>\n",
       "      <td>35373</td>\n",
       "    </tr>\n",
       "    <tr>\n",
       "      <th>103</th>\n",
       "      <td>Personal, protective and transportation servic...</td>\n",
       "      <td>Ontario</td>\n",
       "      <td>26094</td>\n",
       "    </tr>\n",
       "    <tr>\n",
       "      <th>84</th>\n",
       "      <td>Other  [12]</td>\n",
       "      <td>Quebec</td>\n",
       "      <td>23277</td>\n",
       "    </tr>\n",
       "    <tr>\n",
       "      <th>6</th>\n",
       "      <td>Agriculture, natural resources and conservatio...</td>\n",
       "      <td>Ontario</td>\n",
       "      <td>11730</td>\n",
       "    </tr>\n",
       "    <tr>\n",
       "      <th>88</th>\n",
       "      <td>Personal improvement and leisure [0]</td>\n",
       "      <td>British Columbia</td>\n",
       "      <td>11241</td>\n",
       "    </tr>\n",
       "  </tbody>\n",
       "</table>\n",
       "</div>"
      ],
      "text/plain": [
       "                                        Field of study               GEO  \\\n",
       "28   Business, management and public administration...           Ontario   \n",
       "125        Social and behavioural sciences and law [4]           Ontario   \n",
       "17   Architecture, engineering and related technolo...           Ontario   \n",
       "50                      Health and related fields [10]           Ontario   \n",
       "63                                      Humanities [3]            Quebec   \n",
       "114    Physical and life sciences and technologies [6]           Ontario   \n",
       "135                                       Unclassified           Ontario   \n",
       "72   Mathematics, computer and information sciences...           Ontario   \n",
       "146  Visual and performing arts and communications ...           Ontario   \n",
       "41                                       Education [1]            Quebec   \n",
       "103  Personal, protective and transportation servic...           Ontario   \n",
       "84                                         Other  [12]            Quebec   \n",
       "6    Agriculture, natural resources and conservatio...           Ontario   \n",
       "88                Personal improvement and leisure [0]  British Columbia   \n",
       "\n",
       "      VALUE  \n",
       "28   171693  \n",
       "125  136701  \n",
       "17   114720  \n",
       "50   113781  \n",
       "63    80022  \n",
       "114   70554  \n",
       "135   59196  \n",
       "72    48171  \n",
       "146   38367  \n",
       "41    35373  \n",
       "103   26094  \n",
       "84    23277  \n",
       "6     11730  \n",
       "88    11241  "
      ]
     },
     "execution_count": 8,
     "metadata": {},
     "output_type": "execute_result"
    }
   ],
   "source": [
    "df1.sort_values(by = 'VALUE', ascending = False).drop_duplicates(subset = 'Field of study', keep = 'first')"
   ]
  },
  {
   "cell_type": "markdown",
   "metadata": {},
   "source": [
    "### Question 2"
   ]
  },
  {
   "cell_type": "code",
   "execution_count": 9,
   "metadata": {},
   "outputs": [
    {
     "data": {
      "text/plain": [
       "Text(0.5, 1.0, 'Full-time Canadian Students (2018)')"
      ]
     },
     "execution_count": 9,
     "metadata": {},
     "output_type": "execute_result"
    },
    {
     "data": {
      "image/png": "[encoded data removed]",
      "text/plain": [
       "<Figure size 432x288 with 1 Axes>"
      ]
     },
     "metadata": {
      "needs_background": "light"
     },
     "output_type": "display_data"
    }
   ],
   "source": [
    "df2 = df_students[df_students['Registration status'] == 'Full-time student'].groupby('GEO').sum().reset_index()\n",
    "\n",
    "plt.scatter(df2['VALUE'], df2['GEO'], color = 'black')\n",
    "plt.xlabel('Number of Full-time Students')\n",
    "plt.title('Full-time Canadian Students (2018)')"
   ]
  },
  {
   "cell_type": "markdown",
   "metadata": {},
   "source": [
    "### Question 3"
   ]
  },
  {
   "cell_type": "code",
   "execution_count": 10,
   "metadata": {},
   "outputs": [
    {
     "data": {
      "text/plain": [
       "<matplotlib.legend.Legend at 0x2095c4ab850>"
      ]
     },
     "execution_count": 10,
     "metadata": {},
     "output_type": "execute_result"
    },
    {
     "data": {
      "image/png": "[encoded data removed]",
      "text/plain": [
       "<Figure size 432x288 with 1 Axes>"
      ]
     },
     "metadata": {
      "needs_background": "light"
     },
     "output_type": "display_data"
    }
   ],
   "source": [
    "x = plt.scatter(df_iris[df_iris.species == 'setosa']['petal_length'], df_iris[df_iris.species == 'setosa']['petal_width'], color = 'blue')\n",
    "y = plt.scatter(df_iris[df_iris.species == 'versicolor']['petal_length'], df_iris[df_iris.species == 'versicolor']['petal_width'], color = 'orange')\n",
    "z = plt.scatter(df_iris[df_iris.species == 'virginica']['petal_length'], df_iris[df_iris.species == 'virginica']['petal_width'], color = 'green')\n",
    "\n",
    "plt.xlabel('Petal Length')\n",
    "plt.ylabel('Petal Width')\n",
    "plt.title('Iris Petals')\n",
    "\n",
    "plt.legend([x, y, z], ['Setosa', 'Versicolor', 'Virginica'])"
   ]
  },
  {
   "cell_type": "markdown",
   "metadata": {},
   "source": [
    "### Question 4"
   ]
  },
  {
   "cell_type": "code",
   "execution_count": 11,
   "metadata": {},
   "outputs": [
    {
     "name": "stderr",
     "output_type": "stream",
     "text": [
      "<ipython-input-11-19ce9c706ecf>:14: UserWarning: 'set_params()' not defined for locator of type <class 'matplotlib.category.StrCategoryLocator'>\n",
      "  ax.locator_params(tight=True, nbins=12)\n"
     ]
    },
    {
     "data": {
      "text/plain": [
       "([<matplotlib.axis.YTick at 0x2095c57e310>,\n",
       "  <matplotlib.axis.YTick at 0x2095c578eb0>,\n",
       "  <matplotlib.axis.YTick at 0x2095c573d60>],\n",
       " [Text(0, 2.0, 'Setosa'),\n",
       "  Text(0, 1.0, 'Versicolor'),\n",
       "  Text(0, 0.0, 'Virginica')])"
      ]
     },
     "execution_count": 11,
     "metadata": {},
     "output_type": "execute_result"
    },
    {
     "data": {
      "image/png": "[encoded data removed]",
      "text/plain": [
       "<Figure size 432x288 with 1 Axes>"
      ]
     },
     "metadata": {
      "needs_background": "light"
     },
     "output_type": "display_data"
    }
   ],
   "source": [
    "df4 = df_iris[['petal_length', 'petal_width', 'species']].groupby('species').mean().reset_index()\n",
    "df4['avg_petal_area'] = df4['petal_length'] * df4['petal_width']\n",
    "df4 = df4.iloc[:: -1]\n",
    "df4\n",
    "\n",
    "fig = plt.figure()\n",
    "\n",
    "ax = fig.add_axes([0.0, 0.0, 1.0, 1.0])\n",
    "ax.barh(df4['species'], df4['avg_petal_area'], color = ['green', 'orange', 'blue'])\n",
    "ax.set_title('Average Petal Area for Iris Flowers')\n",
    "ax.set_xlabel('Average Petal Area')\n",
    "ax.set_ylabel('Species')\n",
    "\n",
    "ax.locator_params(tight=True, nbins=12)\n",
    "y = ['setosa', 'versicolor', 'virginica']\n",
    "values = ['Setosa', 'Versicolor', 'Virginica']\n",
    "plt.yticks(y, values)"
   ]
  },
  {
   "cell_type": "code",
   "execution_count": null,
   "metadata": {},
   "outputs": [],
   "source": []
  }
 ],
 "metadata": {
  "kernelspec": {
   "display_name": "Python 3",
   "language": "python",
   "name": "python3"
  },
  "language_info": {
   "codemirror_mode": {
    "name": "ipython",
    "version": 3
   },
   "file_extension": ".py",
   "mimetype": "text/x-python",
   "name": "python",
   "nbconvert_exporter": "python",
   "pygments_lexer": "ipython3",
   "version": "3.8.5"
  }
 },
 "nbformat": 4,
 "nbformat_minor": 4
}
